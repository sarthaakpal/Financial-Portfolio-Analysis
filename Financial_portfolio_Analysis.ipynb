{
  "nbformat": 4,
  "nbformat_minor": 0,
  "metadata": {
    "colab": {
      "provenance": []
    },
    "kernelspec": {
      "name": "python3",
      "display_name": "Python 3"
    },
    "language_info": {
      "name": "python"
    }
  },
  "cells": [
    {
      "cell_type": "markdown",
      "source": [
        "#Financial Portfolio Analysis"
      ],
      "metadata": {
        "id": "j4KlqLT4TZYR"
      }
    },
    {
      "cell_type": "markdown",
      "source": [
        "The financial portfolio analysis tool is designed to provide insights into the performance of a financial portfolio over time. This project leverages historical stock prices for selected securities to offer a comprehensive understanding of investment trends.\n",
        "\n",
        "This dataset contains the following information:\n",
        "\n",
        "- **Adj Close:** Stock closing prices adjusted for dividends and stock splits(numeric).\n",
        "\n",
        "- **Open, Close, High, Low Prices:** Various stock price indicators for each security (numeric)\n",
        "\n",
        "- **Date:** The date of the stock prices (mm-dd-yyyy).\n",
        "\n",
        "- **Symbol:** Unique three-letter codes representing the securities(text).\n",
        "\n",
        "- **Volume:** The trading volume for each security(numeric)."
      ],
      "metadata": {
        "id": "mPdHA4PAUj87"
      }
    },
    {
      "cell_type": "markdown",
      "source": [
        "**Let us start by importing the necessary libraries**"
      ],
      "metadata": {
        "id": "MCZcpG6bal0T"
      }
    },
    {
      "cell_type": "code",
      "execution_count": 3,
      "metadata": {
        "id": "cMULPv58XH92"
      },
      "outputs": [],
      "source": [
        "import pandas as pd\n",
        "import numpy as np\n",
        "import matplotlib.pyplot as plt"
      ]
    },
    {
      "cell_type": "markdown",
      "source": [
        "**Next, importing the EXCEL file called Stock Portfolio.xlsx which contains information about the portfolio.**"
      ],
      "metadata": {
        "id": "-3dPunJIa0V7"
      }
    },
    {
      "cell_type": "code",
      "source": [
        "# Reading in the Excel file as a DataFrame\n",
        "df=pd.read_excel('/content/drive/MyDrive/Data-set/Stock Portfolio.xlsx')\n",
        "df"
      ],
      "metadata": {
        "id": "pFiMVM_DXYwu"
      },
      "execution_count": null,
      "outputs": []
    },
    {
      "cell_type": "markdown",
      "source": [
        "**Before we begin our analysis, let us convert the date columns to Pandas datetime values.**\n",
        "\n",
        "**This will help to standarize such data across the multiple datasets that we work with and it will also help us use ready-made functions.**"
      ],
      "metadata": {
        "id": "4f332Xi6bI30"
      }
    },
    {
      "cell_type": "code",
      "source": [
        "# Converting to datetime.date values\n",
        "df['Date'] = pd.to_datetime(df['Date']).dt.date\n",
        "df"
      ],
      "metadata": {
        "id": "W0GTyE8VYwRz"
      },
      "execution_count": null,
      "outputs": []
    },
    {
      "cell_type": "markdown",
      "source": [
        "**Now, we will analyze a financial portfolio by computing and presenting key metrics derived from a given dataset**"
      ],
      "metadata": {
        "id": "AE0xuCKJb4BV"
      }
    },
    {
      "cell_type": "markdown",
      "source": [
        "**Calculate Total Portfolio Amount:**\n",
        "\n",
        "The code begins by computing the total value of the portfolio, considering the closing prices of securities and their corresponding trading volumes. Then the result is rounded to two decimal places for clarity and display it."
      ],
      "metadata": {
        "id": "Qg1fJXGGcYTi"
      }
    },
    {
      "cell_type": "code",
      "source": [
        "Portfolio_Total_Amount=sum(df['Close']*df['Volume'])\n",
        "Portfolio_Total_Amount=round(Portfolio_Total_Amount,2)\n",
        "print(\"Total Portfolio Amount:\",Portfolio_Total_Amount)"
      ],
      "metadata": {
        "id": "YTkKh5r5cpii"
      },
      "execution_count": null,
      "outputs": []
    },
    {
      "cell_type": "markdown",
      "source": [
        "**Calculate and Display Average Price and Total Average Price:**\n",
        "\n",
        "We proceeds to calculate the average price per security and the total average price by taking into account the opening and closing prices. Then print a subset of the DataFrame containing the symbols of the securities and their corresponding total average prices."
      ],
      "metadata": {
        "id": "-4_s3BMqcq9b"
      }
    },
    {
      "cell_type": "code",
      "source": [
        "df[\"Avg Price\"] = (df[\"Open\"] + df[\"Close\"]) / 2\n",
        "df[\"Total Avg Price\"]=df[\"Avg Price\"]*df['Volume']\n",
        "print(df.loc[:, [\"Symbol\", \"Total Avg Price\"]])"
      ],
      "metadata": {
        "id": "H1ycFp-WXfp2"
      },
      "execution_count": null,
      "outputs": []
    },
    {
      "cell_type": "markdown",
      "source": [
        "### Financial Data Aggregation by Symbol and Year"
      ],
      "metadata": {
        "id": "W80ZnZT9dKVL"
      }
    },
    {
      "cell_type": "markdown",
      "source": [
        "**Create a Year Column:**\n",
        "\n",
        "Here, we are creating a new column named \"Year\" in the DataFrame (df). This column is derived from the \"Date\" column, representing the year corresponding to each date.The DataFrame is then grouped by two key variables - \"Symbol\" (representing different financial securities) and \"Year\" (representing the calendar year). The grouping is done to aggregate data based on these two criteria."
      ],
      "metadata": {
        "id": "M99RPl9gevI7"
      }
    },
    {
      "cell_type": "code",
      "source": [
        "df[\"Year\"] = pd.to_datetime(df[\"Date\"]).dt.year\n",
        "\n",
        "# Group by symbol and year, calculate sum of volume average price\n",
        "grouped_df = df.groupby([\"Symbol\", \"Year\",])[\"Avg Price\"].sum()\n",
        "print(grouped_df)"
      ],
      "metadata": {
        "id": "1nHTllA-YA2p"
      },
      "execution_count": null,
      "outputs": []
    },
    {
      "cell_type": "markdown",
      "source": [
        "### Aggregating Total Volume by Symbol"
      ],
      "metadata": {
        "id": "XIpHzJohfCo7"
      }
    },
    {
      "cell_type": "markdown",
      "source": [
        "**Group by Symbol:**\n",
        "\n",
        "Now, we will be organizing the data based on different symbols representing financial securities."
      ],
      "metadata": {
        "id": "MleKWCR_fJH6"
      }
    },
    {
      "cell_type": "code",
      "source": [
        "# Group by symbol and calculate the sum of volume\n",
        "grouped_df = df.groupby(\"Symbol\")[\"Volume\"].sum()\n",
        "print(grouped_df)"
      ],
      "metadata": {
        "id": "I7Zo9GrcDdTC"
      },
      "execution_count": null,
      "outputs": []
    },
    {
      "cell_type": "markdown",
      "source": [
        "## Creating a Portfolio Pie Chart"
      ],
      "metadata": {
        "id": "PqPDClXhfp3y"
      }
    },
    {
      "cell_type": "markdown",
      "source": [
        " Here, we generates a pie chart to visually represent the distribution of total trading volume across different symbols in a financial portfolio.The resulting pie chart provides a quick and intuitive overview of the proportion of trading volume associated with each symbol in the portfolio."
      ],
      "metadata": {
        "id": "1LeEJAG_fvva"
      }
    },
    {
      "cell_type": "code",
      "source": [
        "colors = [\"lightblue\", \"lightgreen\", \"lightyellow\", \"lightcoral\"]\n",
        "\n",
        "explode = np.random.rand(len(grouped_df) - 1) * 0.15\n",
        "explode = np.append(explode, 0)\n",
        "plt.figure(figsize=(8, 8))\n",
        "# Create the pie chart trading volume associated with each symbol\n",
        "plt.pie(\n",
        "    grouped_df,\n",
        "    labels=grouped_df.index,\n",
        "    autopct=\"%1.1f%%\",\n",
        "    startangle=140,\n",
        "    colors=colors,\n",
        "    explode=explode,\n",
        ")\n",
        "#Title\n",
        "plt.title(\"Portfolio Pie Chart\", fontsize=16,color='blue')"
      ],
      "metadata": {
        "id": "_YwLly_5DefM"
      },
      "execution_count": null,
      "outputs": []
    },
    {
      "cell_type": "markdown",
      "source": [
        "### Plotting High and Low Prices Over Time for Each Symbol"
      ],
      "metadata": {
        "id": "clp-9LLKhNJD"
      }
    },
    {
      "cell_type": "markdown",
      "source": [
        "Now, we generate separate line plots for the high and low prices of each financial symbol over time. Each plot is displayed in a distinct figure, providing a clear visualization of how high and low prices fluctuate for different symbols throughout the years"
      ],
      "metadata": {
        "id": "da97zU_ChIms"
      }
    },
    {
      "cell_type": "code",
      "source": [
        "# Extract year from the date column\n",
        "df[\"Year\"] = pd.to_datetime(df[\"Date\"]).dt.year\n",
        "\n",
        "# Iterate through each symbol\n",
        "for symbol in df[\"Symbol\"].unique():\n",
        "    # Filter data for the current symbol\n",
        "    symbol_data = df[df[\"Symbol\"] == symbol]\n",
        "\n",
        "    # Create a separate plot for each symbol\n",
        "    plt.figure(figsize=(10, 6))\n",
        "\n",
        "    # Plot high and low values with different colors and line styles\n",
        "    plt.plot(symbol_data[\"Year\"], symbol_data[\"High\"], label=\"High\", color=\"blue\", linestyle=\"-\")\n",
        "    plt.plot(symbol_data[\"Year\"], symbol_data[\"Low\"], label=\"Low\", color=\"red\", linestyle=\"--\")\n",
        "\n",
        "    # Customize plot elements\n",
        "    plt.xlabel(\"Year\")\n",
        "    plt.ylabel(\"Price\")\n",
        "    plt.title(f\"High and Low Prices for by Year\")\n",
        "    plt.xticks(rotation=45)\n",
        "    plt.legend()\n",
        "    plt.grid(True)\n",
        "\n",
        "    plt.show()"
      ],
      "metadata": {
        "id": "cTwM_3qQFKcJ"
      },
      "execution_count": null,
      "outputs": []
    },
    {
      "cell_type": "markdown",
      "source": [
        "### Creating Volume Distribution Pie Charts for Each Symbol"
      ],
      "metadata": {
        "id": "HqoyKjaZh9v7"
      }
    },
    {
      "cell_type": "markdown",
      "source": [
        "Here, we generate separate pie charts for the volume distribution across different years for each financial symbol. Each chart provides a visual representation of how the trading volume is distributed among the years for a specific symbol."
      ],
      "metadata": {
        "id": "gesK4CKjh_Jq"
      }
    },
    {
      "cell_type": "code",
      "source": [
        "# Extract year from the date column\n",
        "df[\"Year\"] = pd.to_datetime(df[\"Date\"]).dt.year\n",
        "\n",
        "# Group by symbol and year, calculate sum of volume\n",
        "grouped_df = df.groupby([\"Symbol\", \"Year\"])[\"Volume\"].sum()\n",
        "\n",
        "# Create separate pie charts for each symbol\n",
        "for symbol, group_data in grouped_df.groupby(level=0):\n",
        "    # Extract pie chart data\n",
        "    years = group_data.index.get_level_values(\"Year\").to_numpy()\n",
        "    volumes = group_data.to_numpy()\n",
        "\n",
        "    # Create pie chart\n",
        "    plt.figure(figsize=(15, 12))\n",
        "    plt.pie(volumes, labels=years, autopct=\"%1.1f%%\")\n",
        "    plt.title(f\"Volume Distribution for\")\n",
        "    plt.show()"
      ],
      "metadata": {
        "id": "UoRjqFTJYJIq"
      },
      "execution_count": null,
      "outputs": []
    },
    {
      "cell_type": "markdown",
      "source": [
        "### Creating Bar Charts for Average Price Over Time for Each Symbol"
      ],
      "metadata": {
        "id": "qAVF2pfdi0hL"
      }
    },
    {
      "cell_type": "markdown",
      "source": [
        "Here, we generate separate bar charts for the average price of each financial symbol over time. Each chart provides a visual representation of how the average price fluctuates across different years for a specific symbol."
      ],
      "metadata": {
        "id": "A19IeCRli4xM"
      }
    },
    {
      "cell_type": "code",
      "source": [
        "# Extract year from the date column\n",
        "df[\"Year\"] = pd.to_datetime(df[\"Date\"]).dt.year\n",
        "\n",
        "# Iterate through each symbol\n",
        "for symbol in df[\"Symbol\"].unique():\n",
        "    # Filter data for the current symbol\n",
        "    symbol_data = df[df[\"Symbol\"] == symbol]\n",
        "\n",
        "    # Create bar chart\n",
        "    plt.figure(figsize=(8, 4))\n",
        "    plt.bar(symbol_data[\"Year\"], symbol_data[\"Avg Price\"])\n",
        "    plt.xlabel(\"Year\")\n",
        "    plt.ylabel(\"Average Price\")\n",
        "    plt.title(\"Average Price for by Year\")\n",
        "    plt.xticks(rotation=45)\n",
        "    plt.tight_layout()\n",
        "    plt.show()"
      ],
      "metadata": {
        "id": "LXUpp4IpYLkf"
      },
      "execution_count": null,
      "outputs": []
    },
    {
      "cell_type": "markdown",
      "source": [
        "### Creating Scatter Plots for Average Price vs Volume for Each Symbol"
      ],
      "metadata": {
        "id": "pjTTgEWtjGEr"
      }
    },
    {
      "cell_type": "markdown",
      "source": [
        "Here, we generate separate scatter plots for each financial symbol, displaying the relationship between average price and trading volume. Each point on the scatter plot represents a data entry for a specific time, and the plot provides insights into potential correlations or patterns between the two variables."
      ],
      "metadata": {
        "id": "AiEP91JajHDy"
      }
    },
    {
      "cell_type": "code",
      "source": [
        "# Iterate through each symbol\n",
        "for symbol in df[\"Symbol\"].unique():\n",
        "    # Filter data for the current symbol\n",
        "    symbol_data = df[df[\"Symbol\"] == symbol]\n",
        "\n",
        "    # Create a scatter plot\n",
        "    plt.figure(figsize=(8, 6))\n",
        "    plt.scatter(symbol_data[\"Avg Price\"], symbol_data[\"Volume\"], s=50, alpha=0.7, color='red')\n",
        "    plt.xlabel(\"Average Price\")\n",
        "    plt.ylabel(\"Volume\")\n",
        "    plt.title(f\"Average Price vs Volume for\")\n",
        "    plt.grid(True)\n",
        "\n",
        "    plt.show()"
      ],
      "metadata": {
        "id": "Tv-RaNWWMT2L"
      },
      "execution_count": null,
      "outputs": []
    },
    {
      "cell_type": "code",
      "source": [
        "from google.colab import drive\n",
        "drive.mount('/content/drive')"
      ],
      "metadata": {
        "colab": {
          "base_uri": "https://localhost:8080/"
        },
        "id": "E0lkjITa6Sq0",
        "outputId": "46e17e0f-c39c-486f-fc46-d7da6a12efd3"
      },
      "execution_count": 2,
      "outputs": [
        {
          "output_type": "stream",
          "name": "stdout",
          "text": [
            "Mounted at /content/drive\n"
          ]
        }
      ]
    }
  ]
}